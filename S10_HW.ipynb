{
 "cells": [
  {
   "attachments": {},
   "cell_type": "markdown",
   "metadata": {},
   "source": [
    "**f(x) = -12x^4*sin(cos(x)) - 18x^3+5x^2 + 10x - 30**\n",
    "\n",
    "- Определить корни\n",
    "\n",
    "- Найти интервалы, на которых функция возрастает\n",
    "\n",
    "- Найти интервалы, на которых функция убывает\n",
    "\n",
    "- Построить график\n",
    "\n",
    "- Вычислить вершину\n",
    "\n",
    "- Определить промежутки, на котором f > 0\n",
    "\n",
    "- Определить промежутки, на котором f < 0"
   ]
  },
  {
   "cell_type": "code",
   "execution_count": 78,
   "metadata": {},
   "outputs": [],
   "source": [
    "import matplotlib.pyplot as plt\n",
    "import numpy as np"
   ]
  },
  {
   "cell_type": "code",
   "execution_count": 79,
   "metadata": {},
   "outputs": [],
   "source": [
    "a, b, c, d, e = -12, -18, 5, 10, -30\n",
    "limit = 60\n",
    "step = 0.01\n",
    "step_acr = 0.0001\n",
    "line_style = '--'\n",
    "color = 'b'\n",
    "dir_up = True"
   ]
  },
  {
   "cell_type": "code",
   "execution_count": 80,
   "metadata": {},
   "outputs": [],
   "source": [
    "x = np.arange(-limit, limit+step, step)\n",
    "x_change = [(-limit, 'limit')]"
   ]
  },
  {
   "cell_type": "code",
   "execution_count": 81,
   "metadata": {},
   "outputs": [],
   "source": [
    "def func(x):\n",
    "    return a * x**4 * np.sin(np.cos(x)) + b * x**3 + c * x**2 + d*x + e"
   ]
  },
  {
   "cell_type": "code",
   "execution_count": 82,
   "metadata": {},
   "outputs": [],
   "source": [
    "line_style = '-' if func(-limit) > 0 else '--'\n",
    "def switch_line():\n",
    "    global line_style\n",
    "    return (line_style := '-' if line_style == '--' else '--')"
   ]
  },
  {
   "cell_type": "code",
   "execution_count": 83,
   "metadata": {},
   "outputs": [],
   "source": [
    "def switch_color():\n",
    "    global color\n",
    "    return (color := 'r' if color == 'b' else 'b')"
   ]
  },
  {
   "cell_type": "code",
   "execution_count": 84,
   "metadata": {},
   "outputs": [],
   "source": [
    "for i in range(len(x)-1):\n",
    "    if func(x[i]) > 0 and func(x[i+1]) < 0 or func(x[i]) < 0 and func(x[i+1]) > 0:\n",
    "        x_acr = np.arange(x[i], x[i+1] + step_acr, step_acr)\n",
    "        for j in range(len(x_acr)-1):\n",
    "            if func(x_acr[j]) > 0 and func(x_acr[j+1]) < 0 or func(x_acr[j]) < 0 and func(x_acr[j+1]) > 0:\n",
    "                x_change.append((x_acr[j], 'zero'))\n",
    "\n",
    "    if (dir_up and func(x[i]) > func(x[i+1])) or (not dir_up and func(x[i]) < func(x[i+1])):\n",
    "        dir_up = not dir_up\n",
    "        x_change.append((x[i], 'dir'))\n",
    "\n",
    "\n",
    "x_change.append((limit, 'limit'))\n"
   ]
  },
  {
   "cell_type": "code",
   "execution_count": 85,
   "metadata": {},
   "outputs": [
    {
     "name": "stderr",
     "output_type": "stream",
     "text": [
      "No artists with labels found to put in legend.  Note that artists whose label start with an underscore are ignored when legend() is called with no argument.\n"
     ]
    },
    {
     "data": {
      "image/png": "[encoded data removed]",
      "text/plain": [
       "<Figure size 432x288 with 1 Axes>"
      ]
     },
     "metadata": {
      "needs_background": "light"
     },
     "output_type": "display_data"
    }
   ],
   "source": [
    "for i in range(len(x_change)-1):\n",
    "    cur_x = np.arange(x_change[i][0], x_change[i+1][0]+step, step)\n",
    "    if x_change[i][1] == 'zero':\n",
    "        plt.plot(x_change[i][0], func(x_change[i][0]), 'go')\n",
    "        plt.rcParams['lines.linestyle'] = switch_line()\n",
    "        plt.plot(cur_x, func(cur_x), color)\n",
    "    else:\n",
    "        plt.plot(cur_x, func(cur_x), switch_color())\n",
    "        plt.plot(x_change[i][0], func(x_change[i][0]), 'yx')\n",
    "\n",
    "\n",
    "plt.legend()\n",
    "plt.grid()\n",
    "plt.show()\n"
   ]
  }
 ],
 "metadata": {
  "kernelspec": {
   "display_name": "Python 3",
   "language": "python",
   "name": "python3"
  },
  "language_info": {
   "codemirror_mode": {
    "name": "ipython",
    "version": 3
   },
   "file_extension": ".py",
   "mimetype": "text/x-python",
   "name": "python",
   "nbconvert_exporter": "python",
   "pygments_lexer": "ipython3",
   "version": "3.10.6"
  },
  "orig_nbformat": 4,
  "vscode": {
   "interpreter": {
    "hash": "767d51c1340bd893661ea55ea3124f6de3c7a262a8b4abca0554b478b1e2ff90"
   }
  }
 },
 "nbformat": 4,
 "nbformat_minor": 2
}
