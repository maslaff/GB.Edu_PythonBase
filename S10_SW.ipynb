{
 "cells": [
  {
   "attachments": {},
   "cell_type": "markdown",
   "metadata": {},
   "source": [
    "Дана функция f(x) = 5*x\\*\\*2 + 10*x - 30\n",
    "\n",
    "1. Определить корни\n",
    "2. Найти интервалы, на которых функция возрастает\n",
    "3. Найти интервалы, на которых функция убывает\n",
    "4. Построить график\n",
    "5. Вычислить вершину\n",
    "6. Определить промежутки, на котором f > 0\n",
    "7. Определить промежутки, на котором f < 0\n"
   ]
  },
  {
   "cell_type": "code",
   "execution_count": 21,
   "metadata": {},
   "outputs": [],
   "source": [
    "import matplotlib.pyplot as plt\n",
    "import numpy as np"
   ]
  },
  {
   "cell_type": "code",
   "execution_count": 22,
   "metadata": {},
   "outputs": [],
   "source": [
    "a, b, c = 5, 10, -30\n",
    "limit = 5\n",
    "step = 0.01"
   ]
  },
  {
   "cell_type": "code",
   "execution_count": 23,
   "metadata": {},
   "outputs": [
    {
     "data": {
      "text/plain": [
       "float"
      ]
     },
     "execution_count": 23,
     "metadata": {},
     "output_type": "execute_result"
    }
   ],
   "source": [
    "def func(x):\n",
    "    return a*x**2 + b*x + c\n",
    "\n",
    "type(func(-5.3))"
   ]
  },
  {
   "cell_type": "code",
   "execution_count": 24,
   "metadata": {},
   "outputs": [],
   "source": [
    "x = np.arange(-limit, limit, step)"
   ]
  },
  {
   "cell_type": "code",
   "execution_count": 25,
   "metadata": {},
   "outputs": [],
   "source": [
    "def take_roots(a, b, c):\n",
    "    disc = (b**2 - 4*a*c)\n",
    "    if disc > 0:\n",
    "        x1 = (-b + disc**0.5) / (2*a)\n",
    "        x2 = (-b - disc**0.5) / (2*a)\n",
    "        return (round(x1, 2), round(x2, 2))\n",
    "    elif disc == 0:\n",
    "        x = -b/(2*a)\n",
    "        return (round(x, 2),)\n",
    "    else:\n",
    "        return (None,)\n"
   ]
  },
  {
   "cell_type": "code",
   "execution_count": 26,
   "metadata": {},
   "outputs": [],
   "source": [
    "root = take_roots(a,b,c)"
   ]
  },
  {
   "cell_type": "code",
   "execution_count": 27,
   "metadata": {},
   "outputs": [],
   "source": [
    "min_y = min(func(x))\n",
    "min_x = take_roots(a,b,c-min_y)[0]"
   ]
  },
  {
   "cell_type": "code",
   "execution_count": 28,
   "metadata": {},
   "outputs": [],
   "source": [
    "x_dwn_pos = np.arange(-limit, min(root)+step, step)\n",
    "x_dwn_neg = np.arange(min(root), min_x+step, step)\n",
    "x_up_neg = np.arange(min_x, max(root)+step, step)\n",
    "x_up_pos = np.arange(max(root), limit, step)\n"
   ]
  },
  {
   "cell_type": "code",
   "execution_count": 29,
   "metadata": {},
   "outputs": [
    {
     "data": {
      "image/png": "[encoded data removed]",
      "text/plain": [
       "<Figure size 432x288 with 1 Axes>"
      ]
     },
     "metadata": {
      "needs_background": "light"
     },
     "output_type": "display_data"
    }
   ],
   "source": [
    "plt.plot(x_dwn_pos, func(x_dwn_pos), 'b', label='Уб.>0')\n",
    "plt.plot(x_dwn_neg, func(x_dwn_neg), 'b--', label='Уб.<0')\n",
    "plt.plot(x_up_neg, func(x_up_neg), 'r--', label='Воз.<0')\n",
    "plt.plot(x_up_pos, func(x_up_pos), 'r', label='Воз.>0')\n",
    "if root[0] != None:\n",
    "    plt.plot(root[0], 0, 'ro', label=f'Корни {root[0]}, {root[1]}')\n",
    "    if root[1]:\n",
    "        plt.plot(root[1], 0, 'ro')\n",
    "plt.plot(min_x, min_y, 'bx', label=f'Экстремум {min_x}, {min_y}')\n",
    "plt.legend()\n",
    "plt.grid()\n"
   ]
  }
 ],
 "metadata": {
  "kernelspec": {
   "display_name": "Python 3",
   "language": "python",
   "name": "python3"
  },
  "language_info": {
   "codemirror_mode": {
    "name": "ipython",
    "version": 3
   },
   "file_extension": ".py",
   "mimetype": "text/x-python",
   "name": "python",
   "nbconvert_exporter": "python",
   "pygments_lexer": "ipython3",
   "version": "3.10.6 (main, Nov 14 2022, 16:10:14) [GCC 11.3.0]"
  },
  "orig_nbformat": 4,
  "vscode": {
   "interpreter": {
    "hash": "767d51c1340bd893661ea55ea3124f6de3c7a262a8b4abca0554b478b1e2ff90"
   }
  }
 },
 "nbformat": 4,
 "nbformat_minor": 2
}
